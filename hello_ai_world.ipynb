{
 "cells": [
  {
   "cell_type": "code",
   "execution_count": 1,
   "id": "6e8ba180-8c72-4d6d-80d7-24ab3a9cd42a",
   "metadata": {},
   "outputs": [
    {
     "name": "stdout",
     "output_type": "stream",
     "text": [
      "Hello AI World\n"
     ]
    }
   ],
   "source": [
    "print(\"Hello AI World\")"
   ]
  },
  {
   "cell_type": "code",
   "execution_count": null,
   "id": "41e3432c-0b91-468d-851e-24b388e49949",
   "metadata": {},
   "outputs": [],
   "source": []
  },
  {
   "cell_type": "code",
   "execution_count": 1,
   "id": "442b3ed5-9c82-4144-9510-4d32df3e3178",
   "metadata": {},
   "outputs": [
    {
     "name": "stdout",
     "output_type": "stream",
     "text": [
      "Jupyter notebook first use\n"
     ]
    }
   ],
   "source": [
    "print(\"Jupyter notebook first use\")"
   ]
  },
  {
   "cell_type": "code",
   "execution_count": null,
   "id": "eccea2a0-0ecb-455e-a618-b1d16e714f66",
   "metadata": {},
   "outputs": [],
   "source": []
  }
 ],
 "metadata": {
  "kernelspec": {
   "display_name": "Python 3 (ipykernel)",
   "language": "python",
   "name": "python3"
  },
  "language_info": {
   "codemirror_mode": {
    "name": "ipython",
    "version": 3
   },
   "file_extension": ".py",
   "mimetype": "text/x-python",
   "name": "python",
   "nbconvert_exporter": "python",
   "pygments_lexer": "ipython3",
   "version": "3.13.5"
  }
 },
 "nbformat": 4,
 "nbformat_minor": 5
}
